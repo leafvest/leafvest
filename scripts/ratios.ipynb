{
 "cells": [
  {
   "cell_type": "code",
   "execution_count": null,
   "metadata": {
    "colab": {
     "base_uri": "https://localhost:8080/"
    },
    "id": "AT4LlTRD1M93",
    "outputId": "0c73b256-7865-4af3-c197-f083f05bb223"
   },
   "outputs": [],
   "source": [
    "# https://pypi.org/project/yfinance/\n",
    "! pip install yfinance\n",
    "import yfinance as yf"
   ]
  },
  {
   "cell_type": "markdown",
   "metadata": {
    "id": "-gAn-8YSyN7O"
   },
   "source": [
    "### company profile - JAC\n",
    "- name\n",
    "- sector\n",
    "- industry\n",
    "- description\n",
    "- city\n",
    "- zip (int)\n",
    "- marketCap"
   ]
  },
  {
   "cell_type": "code",
   "execution_count": null,
   "metadata": {
    "id": "EnF3xTqwyX0t"
   },
   "outputs": [],
   "source": [
    "def get_name(ticker):\n",
    "    company = yf.Ticker(ticker)\n",
    "    try:\n",
    "        return company.info['shortName']\n",
    "    except:\n",
    "        return None\n",
    "  \n",
    "def get_sector(ticker):\n",
    "    company = yf.Ticker(ticker)\n",
    "    try:\n",
    "        return company.info['sector']\n",
    "    except:\n",
    "        return None\n",
    "\n",
    "def get_industry(ticker):\n",
    "    company = yf.Ticker(ticker)\n",
    "    try:\n",
    "        return company.info['industry']\n",
    "    except:\n",
    "        return None\n",
    "\n",
    "def get_description(ticker):\n",
    "    company = yf.Ticker(ticker)\n",
    "    try:\n",
    "        return company.info['longBusinessSummary']\n",
    "    except:\n",
    "        return None\n",
    "\n",
    "def get_city(ticker):\n",
    "    company = yf.Ticker(ticker)\n",
    "    try:\n",
    "        return company.info['city']\n",
    "    except:\n",
    "        return None\n",
    "\n",
    "def get_zip(ticker):\n",
    "    company = yf.Ticker(ticker)\n",
    "    try:\n",
    "        return int(company.info['zip'])\n",
    "    except:\n",
    "        return None\n",
    "\n",
    "def get_market_cap(ticker):\n",
    "    company = yf.Ticker(ticker)\n",
    "    try:\n",
    "        return int(company.info['marketCap'])\n",
    "    except:\n",
    "        return None  \n",
    "    \n"
   ]
  },
  {
   "cell_type": "code",
   "execution_count": null,
   "metadata": {
    "colab": {
     "base_uri": "https://localhost:8080/",
     "height": 154
    },
    "id": "uW3YQigkyZ0r",
    "outputId": "e8204102-f456-4bfe-b3f3-b8b662f22b15"
   },
   "outputs": [],
   "source": [
    "# testing\n",
    "get_description('AAPL')"
   ]
  },
  {
   "cell_type": "markdown",
   "metadata": {
    "id": "wjXoc8rD15Xs"
   },
   "source": [
    "### Financial Ratios\n",
    "- P/E (TTM)\n",
    "- PEG (TTM)\n",
    "- current ratio (quarterly)\n",
    "- ROE (quarterly)\n",
    "- EPS (TTM)\n",
    "- EBIT (quarterly)\n",
    "- P/B (TTM)\n",
    "- P/S (TTM)"
   ]
  },
  {
   "cell_type": "code",
   "execution_count": null,
   "metadata": {
    "id": "jOatkr8A14Hp"
   },
   "outputs": [],
   "source": [
    "def get_PE(ticker):\n",
    "    company = yf.Ticker(ticker)\n",
    "    try:\n",
    "        return company.info['trailingPE']\n",
    "    except:\n",
    "        return None\n",
    "\n",
    "def get_PEG(ticker):\n",
    "    company = yf.Ticker(ticker)\n",
    "    try:\n",
    "        return company.info['pegRatio']\n",
    "    except:\n",
    "        return None  \n",
    "\n",
    "def get_EPS(ticker):\n",
    "    company = yf.Ticker(ticker)\n",
    "    try:\n",
    "        return company.info['trailingEps']\n",
    "    except:\n",
    "        return None \n",
    "\n",
    "def get_PB(ticker):\n",
    "    company = yf.Ticker(ticker)\n",
    "    try:\n",
    "        return company.info['priceToBook']\n",
    "    except:\n",
    "        return None  \n",
    "\n",
    "def get_PS(ticker):\n",
    "    company = yf.Ticker(ticker)\n",
    "    try:\n",
    "        return company.info['priceToSalesTrailing12Months']\n",
    "    except:\n",
    "        return None  \n",
    "\n",
    "def get_curr_ratio(ticker):\n",
    "    company = yf.Ticker(ticker)\n",
    "    try:\n",
    "        bs = company.quarterly_balance_sheet\n",
    "        curr_liability = bs.iloc[11, 0]\n",
    "        curr_asset = bs.iloc[15, 0]\n",
    "        return curr_asset / curr_liability\n",
    "    except:\n",
    "        return None  \n",
    "\n",
    "def get_ebit(ticker):\n",
    "    company = yf.Ticker(ticker)\n",
    "    try:\n",
    "        q_financials = company.quarterly_financials\n",
    "        return q_financials.iloc[7,0]\n",
    "    except:\n",
    "        return None  \n",
    "\n",
    "def get_roe(ticker):\n",
    "    company = yf.Ticker(ticker)\n",
    "    try:\n",
    "        se = company.quarterly_balancesheet.iloc[1, 0]\n",
    "        ni = company.quarterly_financials.iloc[4, 0]\n",
    "        return ni / se\n",
    "    except:\n",
    "        return None    \n"
   ]
  },
  {
   "cell_type": "code",
   "execution_count": null,
   "metadata": {},
   "outputs": [],
   "source": []
  },
  {
   "cell_type": "markdown",
   "metadata": {
    "id": "4iGRJwYuH0GB"
   },
   "source": [
    "### Historical Price"
   ]
  },
  {
   "cell_type": "code",
   "execution_count": null,
   "metadata": {
    "colab": {
     "base_uri": "https://localhost:8080/",
     "height": 450
    },
    "id": "OWGW72ns9of-",
    "outputId": "ddda2109-301a-4a9f-83ac-e9ec180db6b3"
   },
   "outputs": [],
   "source": [
    "def get(ticker):\n",
    "    company = yf.Ticker(ticker)\n",
    "    try:\n",
    "        return company.history(period=\"max\")\n",
    "    except:\n",
    "        return None \n",
    "get('AAPL')s"
   ]
  },
  {
   "cell_type": "code",
   "execution_count": null,
   "metadata": {
    "id": "femop3F629ig"
   },
   "outputs": [],
   "source": [
    "def PE_ratio(share_price, earnings_per_share):\n",
    "  '''Name: PE_ratio, Price to Earnings per Share ratio\n",
    "     Parameters: an int or float for share price and earnings per share\n",
    "     Return: a float for ratio\n",
    "  '''\n",
    "  \n"
   ]
  },
  {
   "cell_type": "markdown",
   "metadata": {
    "id": "tOtIycL82-JE"
   },
   "source": [
    "PE ratio, PEG ratio, current ratio, ROE, earnings per share"
   ]
  },
  {
   "cell_type": "code",
   "execution_count": null,
   "metadata": {
    "id": "kVsNxRI91UC7"
   },
   "outputs": [],
   "source": [
    "get_financials('AAPL')"
   ]
  },
  {
   "cell_type": "markdown",
   "metadata": {},
   "source": [
    "### Call functions"
   ]
  },
  {
   "cell_type": "code",
   "execution_count": null,
   "metadata": {},
   "outputs": [],
   "source": [
    "import pandas as pd\n",
    "df = pd.read_csv('companies.csv')\n",
    "df"
   ]
  }
 ],
 "metadata": {
  "colab": {
   "collapsed_sections": [],
   "name": "ratios.ipynb",
   "provenance": []
  },
  "kernelspec": {
   "display_name": "Python 3",
   "language": "python",
   "name": "python3"
  },
  "language_info": {
   "codemirror_mode": {
    "name": "ipython",
    "version": 3
   },
   "file_extension": ".py",
   "mimetype": "text/x-python",
   "name": "python",
   "nbconvert_exporter": "python",
   "pygments_lexer": "ipython3",
   "version": "3.8.5"
  }
 },
 "nbformat": 4,
 "nbformat_minor": 1
}
