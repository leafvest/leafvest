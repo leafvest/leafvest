{
 "cells": [
  {
   "cell_type": "code",
   "execution_count": null,
   "metadata": {},
   "outputs": [],
   "source": [
    "jacs_api = '5c5790be5ee5a060ca46b6a4a00dcc60'"
   ]
  },
  {
   "cell_type": "code",
   "execution_count": null,
   "metadata": {},
   "outputs": [],
   "source": [
    "import requests\n",
    "import json \n",
    "# get ESG score \n",
    "def get_ESG(ticker):\n",
    "    url = \"https://esg-environmental-social-governance-data.p.rapidapi.com/search\"\n",
    "    querystring = {\"q\": ticker}\n",
    "\n",
    "    headers = {\n",
    "        'x-rapidapi-key': \"37cc53b0e4msh1952327de43fa20p113cfbjsnc89e89c5f138\",\n",
    "        'x-rapidapi-host': \"esg-environmental-social-governance-data.p.rapidapi.com\"\n",
    "        }\n",
    "\n",
    "    response = requests.request(\"GET\", url, headers=headers, params=querystring)\n",
    "\n",
    "    return response.json()[0]\n",
    "\n",
    "# get financial data \n",
    "def get_ratios(ticker):\n",
    "    BASE_url = 'https://financialmodelingprep.com/api/v3/'\n",
    "    end_point =  f'ratios/{ticker}?serietype=line&apikey={jacs_api}'\n",
    "    # query API (request url)\n",
    "    response = requests.get(BASE_url + end_point)\n",
    "\n",
    "    # convert response from json \n",
    "    dict_response = response.json()\n",
    "    return dict_response \n",
    "    \n",
    "def get_financial_statements(ticker):\n",
    "    BASE_url = 'https://financialmodelingprep.com/api/v3/'\n",
    "    end_point =  f'income-statement/{ticker}?serietype=line&apikey={jacs_api}'\n",
    "    # query API (request url)\n",
    "    response = requests.get(BASE_url + end_point)\n",
    "\n",
    "    # convert response from json \n",
    "    dict_response = response.json()\n",
    "    return dict_response \n",
    "\n",
    "def get_historical_prices(ticker, start_year, end_year):\n",
    "    '''get historical price information of a selected company during a selected \n",
    "       period of time\n",
    "    Args:\n",
    "        ticker(str): ticker symbol of a company \n",
    "        start_year(int): period begining for historical prices\n",
    "        end_year(int): period ending for historical prices\n",
    "\n",
    "    Returns:\n",
    "        price_df(df): dataframe with columns historical prices and dates\n",
    "\n",
    "  '''\n",
    "    BASE_url = 'https://financialmodelingprep.com/api/v3/'\n",
    "    end_point = f'historical-price-full/{ticker}?serietype=line&apikey={jacs_api}'\n",
    "\n",
    "    # query API (request url)\n",
    "    response = requests.get(BASE_url + end_point)\n",
    "\n",
    "    # convert response from json \n",
    "    dict_response = response.json()['historical']\n",
    "\n",
    "    # convert dict to df\n",
    "    price_df = pd.DataFrame.from_dict(dict_response)\n",
    "\n",
    "    # select data from the given period\n",
    "    # map get_year function to get year for each date\n",
    "    price_df['year'] =  price_df['date'].map(get_year)\n",
    "\n",
    "    price_df['Ticker'] = ticker\n",
    "\n",
    "    # select dates that are start_year <= dates <= end_year\n",
    "    price_df = price_df[(price_df.year >= str(start_year)) & (price_df.year <= str(end_year))]\n",
    "  \n",
    "\n",
    "    return price_df\n",
    "\n",
    "def get_profile(ticker):\n",
    "    BASE_url = 'https://financialmodelingprep.com/api/v3/'\n",
    "    end_point = f'profile/{ticker}?apikey={jacs_api}'\n",
    "    \n",
    "    # query API (request url)\n",
    "    response = requests.get(BASE_url + end_point)\n",
    "\n",
    "    # convert response from json \n",
    "    dict_response = response.json()\n",
    "    return dict_response \n",
    "    \n",
    "\n"
   ]
  },
  {
   "cell_type": "code",
   "execution_count": null,
   "metadata": {},
   "outputs": [],
   "source": [
    "get_ESG('AAPL')"
   ]
  },
  {
   "cell_type": "code",
   "execution_count": null,
   "metadata": {},
   "outputs": [],
   "source": [
    "get_ratios('AAPL')"
   ]
  },
  {
   "cell_type": "code",
   "execution_count": null,
   "metadata": {},
   "outputs": [],
   "source": [
    "get_financial_statements('AAPL')"
   ]
  },
  {
   "cell_type": "code",
   "execution_count": null,
   "metadata": {},
   "outputs": [],
   "source": [
    "get_profile('AAPL')"
   ]
  }
 ],
 "metadata": {
  "kernelspec": {
   "display_name": "Python 3",
   "language": "python",
   "name": "python3"
  },
  "language_info": {
   "codemirror_mode": {
    "name": "ipython",
    "version": 3
   },
   "file_extension": ".py",
   "mimetype": "text/x-python",
   "name": "python",
   "nbconvert_exporter": "python",
   "pygments_lexer": "ipython3",
   "version": "3.8.5"
  }
 },
 "nbformat": 4,
 "nbformat_minor": 4
}
